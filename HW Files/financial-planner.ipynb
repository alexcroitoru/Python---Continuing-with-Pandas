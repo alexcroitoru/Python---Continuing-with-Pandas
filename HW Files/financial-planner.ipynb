{
 "cells": [
  {
   "cell_type": "markdown",
   "metadata": {},
   "source": [
    "# Unit 5 - Financial Planning\n"
   ]
  },
  {
   "cell_type": "code",
   "execution_count": null,
   "metadata": {},
   "outputs": [],
   "source": [
    "# Initial imports\n",
    "import os\n",
    "import requests\n",
    "import json\n",
    "import pandas as pd\n",
    "from dotenv import load_dotenv\n",
    "import os\n",
    "from datetime import datetime\n",
    "import alpaca_trade_api as tradeapi\n",
    "from MCForecastTools import MCSimulation\n",
    "\n",
    "%matplotlib inline"
   ]
  },
  {
   "cell_type": "code",
   "execution_count": null,
   "metadata": {},
   "outputs": [],
   "source": [
    "# Load .env enviroment variables\n",
    "load_dotenv()"
   ]
  },
  {
   "cell_type": "markdown",
   "metadata": {},
   "source": [
    "## Part 1 - Personal Finance Planner"
   ]
  },
  {
   "cell_type": "markdown",
   "metadata": {},
   "source": [
    "### Collect Crypto Prices Using the `requests` Library"
   ]
  },
  {
   "cell_type": "code",
   "execution_count": null,
   "metadata": {},
   "outputs": [],
   "source": [
    "# Set current amount of crypto assets\n",
    "my_btc = 1.2\n",
    "my_eth = 5.3\n",
    "# YOUR CODE HERE!"
   ]
  },
  {
   "cell_type": "code",
   "execution_count": null,
   "metadata": {},
   "outputs": [],
   "source": [
    "# Crypto API URLs\n",
    "btc_url = \"https://api.alternative.me/v2/ticker/Bitcoin/?convert=CAD\"\n",
    "eth_url = \"https://api.alternative.me/v2/ticker/Ethereum/?convert=CAD\"\n",
    "btc_data = requests.get(btc_url).json()\n",
    "eth_data = requests.get(eth_url).json()"
   ]
  },
  {
   "cell_type": "code",
   "execution_count": null,
   "metadata": {},
   "outputs": [],
   "source": [
    "# Fetch current BTC price\n",
    "# YOUR CODE HERE!\n",
    "btc_price = btc_data['data']['1']['quotes']['USD']['price']"
   ]
  },
  {
   "cell_type": "code",
   "execution_count": null,
   "metadata": {},
   "outputs": [],
   "source": [
    "# Fetch current ETH price\n",
    "eth_price = eth_data['data']['1027']['quotes']['USD']['price']"
   ]
  },
  {
   "cell_type": "code",
   "execution_count": null,
   "metadata": {},
   "outputs": [],
   "source": [
    "# Compute current value of my crpto\n",
    "btc = btc_price * my_btc\n",
    "eth = eth_price * my_eth\n",
    "crypto = btc + eth"
   ]
  },
  {
   "cell_type": "code",
   "execution_count": null,
   "metadata": {},
   "outputs": [],
   "source": [
    "# Print current crypto wallet balance\n",
    "print(f\"The current value of your {my_btc} BTC is ${btc:0.2f}\")\n",
    "print(f\"The current value of your {my_eth} ETH is ${eth:0.2f}\")"
   ]
  },
  {
   "cell_type": "markdown",
   "metadata": {},
   "source": [
    "### Collect Investments Data Using Alpaca: `SPY` (stocks) and `AGG` (bonds)"
   ]
  },
  {
   "cell_type": "code",
   "execution_count": null,
   "metadata": {},
   "outputs": [],
   "source": [
    "# Current amount of shares\n",
    "my_spy = 50\n",
    "my_agg = 200"
   ]
  },
  {
   "cell_type": "code",
   "execution_count": null,
   "metadata": {},
   "outputs": [],
   "source": [
    "# Set Alpaca API key and secret\n",
    "alpaca_api_key = os.getenv(\"ALPACA_API_KEY\")\n",
    "alpaca_secret_key = os.getenv(\"ALPACA_SECRET_KEY\")\n",
    "type(alpaca_secret_key)"
   ]
  },
  {
   "cell_type": "code",
   "execution_count": null,
   "metadata": {},
   "outputs": [],
   "source": [
    "# Create the Alpaca API object\n",
    "alpaca = tradeapi.REST(\n",
    "    alpaca_api_key,\n",
    "    alpaca_secret_key,\n",
    "    api_version=\"v2\")"
   ]
  },
  {
   "cell_type": "code",
   "execution_count": null,
   "metadata": {},
   "outputs": [],
   "source": [
    "# Format current date as ISO format\n",
    "date = pd.Timestamp(\"2021-05-28\", tz=\"America/Chicago\").isoformat()"
   ]
  },
  {
   "cell_type": "code",
   "execution_count": null,
   "metadata": {},
   "outputs": [],
   "source": [
    "# Set the tickers\n",
    "tickers = [\"AGG\", \"SPY\"]\n",
    "\n",
    "# Set timeframe to '1D' for Alpaca API\n",
    "timeframe = \"1D\"\n",
    "\n",
    "# Get current closing prices for SPY and AGG\n",
    "df_portfolio = alpaca.get_barset(\n",
    "    tickers,\n",
    "    timeframe,\n",
    "    start = date,\n",
    "    end = date\n",
    ").df\n",
    "\n",
    "# Preview DataFrame\n",
    "df_portfolio"
   ]
  },
  {
   "cell_type": "code",
   "execution_count": null,
   "metadata": {},
   "outputs": [],
   "source": [
    "# Pick AGG and SPY close prices\n",
    "df_closing_prices = pd.DataFrame()\n",
    "df_closing_prices[\"AGG\"] = df_portfolio[\"AGG\"][\"close\"]\n",
    "df_closing_prices[\"SPY\"] = df_portfolio[\"SPY\"][\"close\"]\n",
    "df_closing_prices.index = df_closing_prices.index.date"
   ]
  },
  {
   "cell_type": "code",
   "execution_count": null,
   "metadata": {},
   "outputs": [],
   "source": [
    "agg_close_price = df_closing_prices.iat[0, 0]\n",
    "spy_close_price = df_closing_prices.iat[0, 1]"
   ]
  },
  {
   "cell_type": "code",
   "execution_count": null,
   "metadata": {},
   "outputs": [],
   "source": [
    "# Print AGG and SPY close prices\n",
    "print(f\"Current AGG closing price: ${agg_close_price}\")\n",
    "print(f\"Current SPY closing price: ${spy_close_price}\")"
   ]
  },
  {
   "cell_type": "code",
   "execution_count": null,
   "metadata": {},
   "outputs": [],
   "source": [
    "# Compute the current value of shares\n",
    "my_spy_value = my_spy * spy_close_price\n",
    "my_agg_value = my_agg * agg_close_price\n",
    "shares = my_spy_value + my_agg_value\n",
    "# Print current value of share\n",
    "print(f\"The current value of your {my_spy} SPY shares is ${my_spy_value:0.2f}\")\n",
    "print(f\"The current value of your {my_agg} AGG shares is ${my_agg_value:0.2f}\")"
   ]
  },
  {
   "cell_type": "markdown",
   "metadata": {},
   "source": [
    "### Savings Health Analysis"
   ]
  },
  {
   "cell_type": "code",
   "execution_count": null,
   "metadata": {},
   "outputs": [],
   "source": [
    "# Set monthly household income\n",
    "monthly_income = 12000\n",
    "# Create savings DataFrame\n",
    "data = [['crypto', crypto], ['shares', shares]]\n",
    "df_savings = pd.DataFrame(data, columns = ['Type', 'Amount'])\n",
    "df_savings.set_index(df_savings['Type'], inplace=True)\n",
    "df_savings = df_savings.drop(columns=[\"Type\"])\n",
    "# Display savings DataFrame\n",
    "display(df_savings)"
   ]
  },
  {
   "cell_type": "code",
   "execution_count": null,
   "metadata": {},
   "outputs": [],
   "source": [
    "# Plot savings pie chart\n",
    "df_pie = df_savings.plot.pie(y='Amount', figsize=(5, 5), title=\"Savings Amount\",)\n",
    "df_pie"
   ]
  },
  {
   "cell_type": "code",
   "execution_count": null,
   "metadata": {},
   "outputs": [],
   "source": [
    "# Set ideal emergency fund\n",
    "emergency_fund = monthly_income * 3\n",
    "# Calculate total amount of savings\n",
    "savings = crypto + shares\n",
    "difference = emergency_fund - savings\n",
    "# Validate saving health\n",
    "if savings > emergency_fund:\n",
    "    print(\"Congratulations for having enough money in this fund!\")\n",
    "elif savings == emergency_fund:\n",
    "    print(\"Congratulations on reaching this financial goal!\")\n",
    "elif savings < emergency_fund:\n",
    "    print(\"You are ${difference} from reaching your goal\")"
   ]
  },
  {
   "cell_type": "markdown",
   "metadata": {},
   "source": [
    "## Part 2 - Retirement Planning\n",
    "\n",
    "### Monte Carlo Simulation"
   ]
  },
  {
   "cell_type": "code",
   "execution_count": null,
   "metadata": {},
   "outputs": [],
   "source": [
    "# Set start and end dates of five years back from today.\n",
    "# Sample results may vary from the solution based on the time frame chosen\n",
    "start_date = pd.Timestamp('2016-05-20', tz='America/Chicago').isoformat()\n",
    "end_date = pd.Timestamp('2021-05-20', tz='America/Chicago').isoformat()"
   ]
  },
  {
   "cell_type": "code",
   "execution_count": null,
   "metadata": {},
   "outputs": [],
   "source": [
    "# Get 5 years' worth of historical data for SPY and AGG\n",
    "df_prediction = alpaca.get_barset(\n",
    "    tickers,\n",
    "    timeframe,\n",
    "    start = start_date,\n",
    "    end = end_date\n",
    ").df\n",
    "\n",
    "# Display sample data\n",
    "df_prediction"
   ]
  },
  {
   "cell_type": "code",
   "execution_count": null,
   "metadata": {},
   "outputs": [],
   "source": [
    "# Configuring a Monte Carlo simulation to forecast 30 years cumulative returns\n",
    "import numpy as np\n",
    "import pandas as pd\n",
    "import os\n",
    "import alpaca_trade_api as tradeapi\n",
    "import datetime as dt\n",
    "import pytz\n",
    "\n",
    "class MCSimulation:\n",
    "    def __init__(self, portfolio_data, weights=\"\", num_simulation=1000, num_trading_days=252):\n",
    "        if not isinstance(portfolio_data, pd.DataFrame):\n",
    "            raise TypeError(\"portfolio_data must be a Pandas DataFrame\")\n",
    "            \n",
    "        # Set weights if empty, otherwise make sure sum of weights equals one.\n",
    "        if weights == \"\":\n",
    "            num_stocks = len(portfolio_data.columns.get_level_values(0).unique())\n",
    "            weights = [1.0/num_stocks for s in range(0,num_stocks)]\n",
    "        else:\n",
    "            if round(sum(weights),2) < .99:\n",
    "                raise AttributeError(\"Sum of portfolio weights must equal one.\")\n",
    "        \n",
    "        # Calculate daily return if not within dataframe\n",
    "        if not \"daily_return\" in portfolio_data.columns.get_level_values(1).unique():\n",
    "            close_df = portfolio_data.xs('close',level=1,axis=1).pct_change()\n",
    "            tickers = portfolio_data.columns.get_level_values(0).unique()\n",
    "            column_names = [(x,\"daily_return\") for x in tickers]\n",
    "            close_df.columns = pd.MultiIndex.from_tuples(column_names)\n",
    "            portfolio_data = portfolio_data.merge(close_df,left_index=True,right_index=True).reindex(columns=tickers,level=0)    \n",
    "        \n",
    "        # Set class attributes\n",
    "        self.portfolio_data = portfolio_data\n",
    "        self.weights = weights\n",
    "        self.nSim = num_simulation\n",
    "        self.nTrading = num_trading_days\n",
    "        self.simulated_return = \"\"\n",
    "        \n",
    "    def calc_cumulative_return(self):\n",
    "        \"\"\"\n",
    "        Calculates the cumulative return of a stock over time using a Monte Carlo simulation (Brownian motion with drift).\n",
    "\n",
    "        \"\"\"\n",
    "        \n",
    "        # Get closing prices of each stock\n",
    "        last_prices = self.portfolio_data.xs('close',level=1,axis=1)[-1:].values.tolist()[0]\n",
    "        \n",
    "        # Calculate the mean and standard deviation of daily returns for each stock\n",
    "        daily_returns = self.portfolio_data.xs('daily_return',level=1,axis=1)\n",
    "        mean_returns = daily_returns.mean().tolist()\n",
    "        std_returns = daily_returns.std().tolist()\n",
    "        \n",
    "        # Initialize empty Dataframe to hold simulated prices\n",
    "        portfolio_cumulative_returns = pd.DataFrame()\n",
    "        \n",
    "        # Run the simulation of projecting stock prices 'nSim' number of times\n",
    "        for n in range(self.nSim):\n",
    "        \n",
    "            if n % 10 == 0:\n",
    "                print(f\"Running Monte Carlo simulation number {n}.\")\n",
    "        \n",
    "            # Create a list of lists to contain the simulated values for each stock\n",
    "            simvals = [[p] for p in last_prices]\n",
    "    \n",
    "            # For each stock in our data:\n",
    "            for s in range(len(last_prices)):\n",
    "\n",
    "                # Simulate the returns for each trading day\n",
    "                for i in range(self.nTrading):\n",
    "        \n",
    "                    # Calculate the simulated price using the last price within the list\n",
    "                    simvals[s].append(simvals[s][-1] * (1 + np.random.normal(mean_returns[s], std_returns[s])))\n",
    "    \n",
    "            # Calculate the daily returns of simulated prices\n",
    "            sim_df = pd.DataFrame(simvals).T.pct_change()\n",
    "    \n",
    "            # Use the `dot` function with the weights to multiply weights with each column's simulated daily returns\n",
    "            sim_df = sim_df.dot(self.weights)\n",
    "    \n",
    "            # Calculate the normalized, cumulative return series\n",
    "            portfolio_cumulative_returns[n] = (1 + sim_df.fillna(0)).cumprod()\n",
    "        \n",
    "        # Set attribute to use in plotting\n",
    "        self.simulated_return = portfolio_cumulative_returns\n",
    "        \n",
    "        # Calculate 95% confidence intervals for final cumulative returns\n",
    "        self.confidence_interval = portfolio_cumulative_returns.iloc[-1, :].quantile(q=[0.025, 0.975])\n",
    "        \n",
    "        return portfolio_cumulative_returns\n",
    "    \n",
    "    def plot_simulation(self):\n",
    "        \"\"\"\n",
    "        Visualizes the simulated stock trajectories using calc_cumulative_return method.\n",
    "\n",
    "        \"\"\" \n",
    "        \n",
    "        # Check to make sure that simulation has run previously. \n",
    "        if not isinstance(self.simulated_return,pd.DataFrame):\n",
    "            self.calc_cumulative_return()\n",
    "            \n",
    "        # Use Pandas plot function to plot the return data\n",
    "        plot_title = f\"{self.nSim} Simulations of Cumulative Portfolio Return Trajectories Over the Next {self.nTrading} Trading Days.\"\n",
    "        return self.simulated_return.plot(legend=None,title=plot_title)\n",
    "    \n",
    "    def plot_distribution(self):\n",
    "        \"\"\"\n",
    "        Visualizes the distribution of cumulative returns simulated using calc_cumulative_return method.\n",
    "\n",
    "        \"\"\"\n",
    "        \n",
    "        # Check to make sure that simulation has run previously. \n",
    "        if not isinstance(self.simulated_return,pd.DataFrame):\n",
    "            self.calc_cumulative_return()\n",
    "        \n",
    "        # Use the `plot` function to create a probability distribution histogram of simulated ending prices\n",
    "        # with markings for a 95% confidence interval\n",
    "        plot_title = f\"Distribution of Final Cumuluative Returns Across All {self.nSim} Simulations\"\n",
    "        plt = self.simulated_return.iloc[-1, :].plot(kind='hist', bins=10,density=True,title=plot_title)\n",
    "        plt.axvline(self.confidence_interval.iloc[0], color='r')\n",
    "        plt.axvline(self.confidence_interval.iloc[1], color='r')\n",
    "        return plt\n",
    "    \n",
    "    def summarize_cumulative_return(self):\n",
    "        \"\"\"\n",
    "        Calculate final summary statistics for Monte Carlo simulated stock data.\n",
    "        \n",
    "        \"\"\"\n",
    "        \n",
    "        # Check to make sure that simulation has run previously. \n",
    "        if not isinstance(self.simulated_return,pd.DataFrame):\n",
    "            self.calc_cumulative_return()\n",
    "            \n",
    "        metrics = self.simulated_return.iloc[-1].describe()\n",
    "        ci_series = self.confidence_interval\n",
    "        ci_series.index = [\"95% CI Lower\",\"95% CI Upper\"]\n",
    "        return metrics.append(ci_series)"
   ]
  },
  {
   "cell_type": "code",
   "execution_count": null,
   "metadata": {},
   "outputs": [],
   "source": [
    "# Printing the simulation input data\n",
    "MC_even_dist = MCSimulation(\n",
    "    portfolio_data = df_prediction,\n",
    "    weights = [.6,.4],\n",
    "    num_simulation = 500,\n",
    "    num_trading_days = 252*30\n",
    ")\n",
    "MC_even_dist.portfolio_data.head()"
   ]
  },
  {
   "cell_type": "code",
   "execution_count": null,
   "metadata": {
    "scrolled": true,
    "tags": []
   },
   "outputs": [],
   "source": [
    "# Running a Monte Carlo simulation to forecast 30 years cumulative returns\n",
    "MC_even_dist.calc_cumulative_return()"
   ]
  },
  {
   "cell_type": "code",
   "execution_count": null,
   "metadata": {},
   "outputs": [],
   "source": [
    "# Plot simulation outcomes\n",
    "line_plot = MC_even_dist.plot_simulation()"
   ]
  },
  {
   "cell_type": "code",
   "execution_count": null,
   "metadata": {},
   "outputs": [],
   "source": [
    "# Plot probability distribution and confidence intervals\n",
    "dist_plot = MC_even_dist.plot_distribution()"
   ]
  },
  {
   "cell_type": "markdown",
   "metadata": {},
   "source": [
    "### Retirement Analysis"
   ]
  },
  {
   "cell_type": "code",
   "execution_count": null,
   "metadata": {},
   "outputs": [],
   "source": [
    "# Fetch summary statistics from the Monte Carlo simulation results\n",
    "sum_stats = MC_even_dist.summarize_cumulative_return()\n",
    "\n",
    "# Print summary statistics\n",
    "print(sum_stats)"
   ]
  },
  {
   "cell_type": "markdown",
   "metadata": {},
   "source": [
    "### Calculate the expected portfolio return at the 95% lower and upper confidence intervals based on a `$20,000` initial investment."
   ]
  },
  {
   "cell_type": "code",
   "execution_count": null,
   "metadata": {},
   "outputs": [],
   "source": [
    "# Set initial investment\n",
    "initial_investment = 20000\n",
    "\n",
    "# Use the lower and upper `95%` confidence intervals to calculate the range of the possible outcomes of our $20,000\n",
    "ci_lower = round(sum_stats[8]*initial_investment,2)\n",
    "ci_upper = round(sum_stats[9]*initial_investment,2)\n",
    "# Print results\n",
    "print(f\"There is a 95% chance that an initial investment of ${initial_investment} in the portfolio\"\n",
    "      f\" over the next 30 years will end within in the range of\"\n",
    "      f\" ${ci_lower} and ${ci_upper}\")"
   ]
  },
  {
   "cell_type": "markdown",
   "metadata": {},
   "source": [
    "### Calculate the expected portfolio return at the `95%` lower and upper confidence intervals based on a `50%` increase in the initial investment."
   ]
  },
  {
   "cell_type": "code",
   "execution_count": null,
   "metadata": {},
   "outputs": [],
   "source": [
    "# Set initial investment\n",
    "initial_investment2 = 20000 * 1.5\n",
    "\n",
    "# Use the lower and upper `95%` confidence intervals to calculate the range of the possible outcomes of our $30,000\n",
    "ci_lower = round(sum_stats[8]*initial_investment2,2)\n",
    "ci_upper = round(sum_stats[9]*initial_investment2,2)\n",
    "# Print results\n",
    "print(f\"There is a 95% chance that an initial investment of ${initial_investment2} in the portfolio\"\n",
    "      f\" over the next 30 years will end within in the range of\"\n",
    "      f\" ${ci_lower} and ${ci_upper}\")"
   ]
  },
  {
   "cell_type": "markdown",
   "metadata": {},
   "source": [
    "## Optional Challenge - Early Retirement\n",
    "\n",
    "\n",
    "### Five Years Retirement Option"
   ]
  },
  {
   "cell_type": "code",
   "execution_count": null,
   "metadata": {},
   "outputs": [],
   "source": [
    "# Configuring a Monte Carlo simulation to forecast 5 years cumulative returns\n",
    "# YOUR CODE HERE!"
   ]
  },
  {
   "cell_type": "code",
   "execution_count": null,
   "metadata": {},
   "outputs": [],
   "source": [
    "# Running a Monte Carlo simulation to forecast 5 years cumulative returns\n",
    "# YOUR CODE HERE!"
   ]
  },
  {
   "cell_type": "code",
   "execution_count": null,
   "metadata": {},
   "outputs": [],
   "source": [
    "# Plot simulation outcomes\n",
    "# YOUR CODE HERE!"
   ]
  },
  {
   "cell_type": "code",
   "execution_count": null,
   "metadata": {},
   "outputs": [],
   "source": [
    "# Plot probability distribution and confidence intervals\n",
    "# YOUR CODE HERE!"
   ]
  },
  {
   "cell_type": "code",
   "execution_count": null,
   "metadata": {},
   "outputs": [],
   "source": [
    "# Fetch summary statistics from the Monte Carlo simulation results\n",
    "# YOUR CODE HERE!\n",
    "\n",
    "# Print summary statistics\n",
    "# YOUR CODE HERE!"
   ]
  },
  {
   "cell_type": "code",
   "execution_count": null,
   "metadata": {},
   "outputs": [],
   "source": [
    "# Set initial investment\n",
    "# YOUR CODE HERE!\n",
    "\n",
    "# Use the lower and upper `95%` confidence intervals to calculate the range of the possible outcomes of our $60,000\n",
    "# YOUR CODE HERE!\n",
    "\n",
    "# Print results\n",
    "print(f\"There is a 95% chance that an initial investment of ${initial_investment} in the portfolio\"\n",
    "      f\" over the next 5 years will end within in the range of\"\n",
    "      f\" ${ci_lower_five} and ${ci_upper_five}\")"
   ]
  },
  {
   "cell_type": "markdown",
   "metadata": {},
   "source": [
    "### Ten Years Retirement Option"
   ]
  },
  {
   "cell_type": "code",
   "execution_count": null,
   "metadata": {},
   "outputs": [],
   "source": [
    "# Configuring a Monte Carlo simulation to forecast 10 years cumulative returns\n",
    "# YOUR CODE HERE!"
   ]
  },
  {
   "cell_type": "code",
   "execution_count": null,
   "metadata": {},
   "outputs": [],
   "source": [
    "# Running a Monte Carlo simulation to forecast 10 years cumulative returns\n",
    "# YOUR CODE HERE!"
   ]
  },
  {
   "cell_type": "code",
   "execution_count": null,
   "metadata": {},
   "outputs": [],
   "source": [
    "# Plot simulation outcomes\n",
    "# YOUR CODE HERE!"
   ]
  },
  {
   "cell_type": "code",
   "execution_count": null,
   "metadata": {},
   "outputs": [],
   "source": [
    "# Plot probability distribution and confidence intervals\n",
    "# YOUR CODE HERE!"
   ]
  },
  {
   "cell_type": "code",
   "execution_count": null,
   "metadata": {},
   "outputs": [],
   "source": [
    "# Fetch summary statistics from the Monte Carlo simulation results\n",
    "# YOUR CODE HERE!\n",
    "\n",
    "# Print summary statistics\n",
    "# YOUR CODE HERE!"
   ]
  },
  {
   "cell_type": "code",
   "execution_count": null,
   "metadata": {},
   "outputs": [],
   "source": [
    "# Set initial investment\n",
    "# YOUR CODE HERE!\n",
    "\n",
    "# Use the lower and upper `95%` confidence intervals to calculate the range of the possible outcomes of our $60,000\n",
    "# YOUR CODE HERE!\n",
    "\n",
    "# Print results\n",
    "print(f\"There is a 95% chance that an initial investment of ${initial_investment} in the portfolio\"\n",
    "      f\" over the next 10 years will end within in the range of\"\n",
    "      f\" ${ci_lower_ten} and ${ci_upper_ten}\")"
   ]
  }
 ],
 "metadata": {
  "kernelspec": {
   "display_name": "Python 3",
   "language": "python",
   "name": "python3"
  },
  "language_info": {
   "codemirror_mode": {
    "name": "ipython",
    "version": 3
   },
   "file_extension": ".py",
   "mimetype": "text/x-python",
   "name": "python",
   "nbconvert_exporter": "python",
   "pygments_lexer": "ipython3",
   "version": "3.8.5"
  }
 },
 "nbformat": 4,
 "nbformat_minor": 4
}
